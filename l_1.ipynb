{
 "cells": [
  {
   "cell_type": "markdown",
   "metadata": {
    "id": "G2wMw7vtsFIu"
   },
   "source": [
    "## ДЗ по уроку № 1 (16.06.2022)\n",
    "## Теория вероятности\n",
    "### Случайные события. Условная вероятность. Формула Байеса.  Независимые испытания"
   ]
  },
  {
   "cell_type": "markdown",
   "metadata": {
    "id": "1p8dVxYGsFJ4"
   },
   "source": [
    "**Пример 1**"
   ]
  },
  {
   "cell_type": "markdown",
   "metadata": {
    "id": "k1FeBSzQsFJ4"
   },
   "source": [
    "Из колоды в 52 карты извлекаются случайным образом 4 карты. a) Найти вероятность того, что все карты – крести. б) Найти вероятность, что среди 4-х карт окажется хотя бы один туз.\n",
    "________________________________________________\n",
    "\n",
    "Количество способов извлечь 4 карты из 52 равно числу сочетаний: "
   ]
  },
  {
   "cell_type": "markdown",
   "metadata": {
    "id": "PW2lximGsFKC"
   },
   "source": [
    "$$C_52^4 = \\frac{52!}{4!(52-4)!}$$ = "
   ]
  },
  {
   "cell_type": "markdown",
   "metadata": {
    "id": "PW2lximGsFKC"
   },
   "source": [
    " = 52 * 51 * 50 * 49 * 48! / (4! * 48!) = 52 * 51 * 50 * 49 / 24 = 270725"
   ]
  },
  {
   "cell_type": "markdown",
   "metadata": {
    "id": "k1FeBSzQsFJ4"
   },
   "source": [
    "Число карт крестовой масти: "
   ]
  },
  {
   "cell_type": "markdown",
   "metadata": {
    "id": "PW2lximGsFKC"
   },
   "source": [
    " = 52 / 4 = 13"
   ]
  },
  {
   "cell_type": "markdown",
   "metadata": {
    "id": "k1FeBSzQsFJ4"
   },
   "source": [
    "Количество способов извлечь 4 карты крестовой масти из 13 равно числу сочетаний: "
   ]
  },
  {
   "cell_type": "markdown",
   "metadata": {
    "id": "PW2lximGsFKC"
   },
   "source": [
    "$$C_13^4 = \\frac{13!}{4!(13-4)!}$$ = "
   ]
  },
  {
   "cell_type": "markdown",
   "metadata": {
    "id": "PW2lximGsFKC"
   },
   "source": [
    " = 13 * 12 * 11 * 10 * 9! / (4! * 9!) = 13 * 12 * 11 * 10 / 24 = 715"
   ]
  },
  {
   "cell_type": "markdown",
   "metadata": {
    "id": "k1FeBSzQsFJ4"
   },
   "source": [
    "а) Применяя классическое определение вероятности, то есть поделив число благоприятствующих событию исходов на общее число исходов испытания (извлечение крестей), приду к искомой формуле: "
   ]
  },
  {
   "cell_type": "markdown",
   "metadata": {
    "id": "PW2lximGsFKC"
   },
   "source": [
    "= 715 / 270725 = 0.0026."
   ]
  },
  {
   "cell_type": "markdown",
   "metadata": {
    "id": "k1FeBSzQsFJ4"
   },
   "source": [
    "В колоде имеется не тузов:  "
   ]
  },
  {
   "cell_type": "markdown",
   "metadata": {
    "id": "PW2lximGsFKC"
   },
   "source": [
    " = 52 - 4 = 48"
   ]
  },
  {
   "cell_type": "markdown",
   "metadata": {
    "id": "PW2lximGsFKC"
   },
   "source": [
    "Число всех способов извлечь не туз - это сочетание: "
   ]
  },
  {
   "cell_type": "markdown",
   "metadata": {
    "id": "PW2lximGsFKC"
   },
   "source": [
    "$$C_48^4 = \\frac{48!}{4!(48-4)!}$$ = "
   ]
  },
  {
   "cell_type": "markdown",
   "metadata": {
    "id": "PW2lximGsFKC"
   },
   "source": [
    "= 48 * 47 * 46 * 45 * 44! / (4! * 44!) = 48 * 47 * 46 * 45 / 24 = 194580"
   ]
  },
  {
   "cell_type": "markdown",
   "metadata": {
    "id": "k1FeBSzQsFJ4"
   },
   "source": [
    "Применяя классическое определение вероятности, то есть поделив число извлечений не тузов на общее число исходов испытания (извлечение 4 карт), приду к искомой формуле: "
   ]
  },
  {
   "cell_type": "markdown",
   "metadata": {
    "id": "PW2lximGsFKC"
   },
   "source": [
    "= 194580 / 270725 = 0.7187"
   ]
  },
  {
   "cell_type": "markdown",
   "metadata": {
    "id": "k1FeBSzQsFJ4"
   },
   "source": [
    "б) А теперь противоположная искомая вероятность - что среди 4-х карт окажется хотя бы один туз: "
   ]
  },
  {
   "cell_type": "markdown",
   "metadata": {
    "id": "PW2lximGsFKC"
   },
   "source": [
    "= 1 - 0.7187 = 0.2813\n",
    "___________________________________________________________"
   ]
  },
  {
   "cell_type": "markdown",
   "metadata": {
    "id": "1p8dVxYGsFJ4"
   },
   "source": [
    "**Пример 2**"
   ]
  },
  {
   "cell_type": "markdown",
   "metadata": {
    "id": "k1FeBSzQsFJ4"
   },
   "source": [
    "На входной двери подъезда установлен кодовый замок, содержащий десять кнопок с цифрами от 0 до 9. Код содержит три цифры, которые нужно нажать одновременно. Какова вероятность того, что человек, не знающий код, откроет дверь с первой попытки?\n",
    "________________________________________________\n",
    "\n",
    "Количество способов выбрать 3 кнопки из 10 равно числу сочетаний: "
   ]
  },
  {
   "cell_type": "markdown",
   "metadata": {
    "id": "PW2lximGsFKC"
   },
   "source": [
    "$$C_10^3 = \\frac{10!}{3!(10-3)!}$$ = "
   ]
  },
  {
   "cell_type": "markdown",
   "metadata": {
    "id": "PW2lximGsFKC"
   },
   "source": [
    " = 10 * 9 * 8 * 7! / (3! * 7!) = 10 * 9 * 8 / 6 = 120"
   ]
  },
  {
   "cell_type": "markdown",
   "metadata": {
    "id": "k1FeBSzQsFJ4"
   },
   "source": [
    "То есть из 120 возможных исходов нам нужен 1 благоприятный. Искомая вероятность равна: "
   ]
  },
  {
   "cell_type": "markdown",
   "metadata": {
    "id": "PW2lximGsFKC"
   },
   "source": [
    "= 1 / 120 = 0.0083\n",
    "___________________________________________________________"
   ]
  },
  {
   "cell_type": "markdown",
   "metadata": {
    "id": "1p8dVxYGsFJ4"
   },
   "source": [
    "**Пример 3**"
   ]
  },
  {
   "cell_type": "markdown",
   "metadata": {
    "id": "k1FeBSzQsFJ4"
   },
   "source": [
    "В ящике имеется 15 деталей, из которых 9 окрашены. Рабочий случайным образом извлекает 3 детали. Какова вероятность того, что все извлеченные детали окрашены?\n",
    "________________________________________________\n",
    "\n",
    "Сначала найду общее число исходов - это число всех различных способов выбрать любые 3 детали из общего числа 15 деталей в ящике (без учета порядка), то есть число сочетаний: "
   ]
  },
  {
   "cell_type": "markdown",
   "metadata": {
    "id": "PW2lximGsFKC"
   },
   "source": [
    "$$C_15^3 = \\frac{15!}{3!(15-3)!}$$ = "
   ]
  },
  {
   "cell_type": "markdown",
   "metadata": {
    "id": "PW2lximGsFKC"
   },
   "source": [
    " = 15 * 14 * 13 * 12! / (3! * 12!) = 15 * 14 * 13 / 6 = 455"
   ]
  },
  {
   "cell_type": "markdown",
   "metadata": {
    "id": "k1FeBSzQsFJ4"
   },
   "source": [
    "Теперь найду число всех способов выбрать 3 окрашенных детали из 9 возможных - это сочетания: "
   ]
  },
  {
   "cell_type": "markdown",
   "metadata": {
    "id": "PW2lximGsFKC"
   },
   "source": [
    "$$C_3^9 = \\frac{9!}{3!(9-3)!}$$ = "
   ]
  },
  {
   "cell_type": "markdown",
   "metadata": {
    "id": "PW2lximGsFKC"
   },
   "source": [
    "= 9 * 8 * 7 * 6! / (3! * 6!) = 9 * 8 * 7 / 6 = 84"
   ]
  },
  {
   "cell_type": "markdown",
   "metadata": {
    "id": "k1FeBSzQsFJ4"
   },
   "source": [
    "и одновременно число всех способов выбрать 0 неокрашенных деталей из 6 возможных:"
   ]
  },
  {
   "cell_type": "markdown",
   "metadata": {
    "id": "PW2lximGsFKC"
   },
   "source": [
    "$$C_6^0 = \\frac{6!}{0!(6-0)!}$$ = "
   ]
  },
  {
   "cell_type": "markdown",
   "metadata": {
    "id": "PW2lximGsFKC"
   },
   "source": [
    "= 1 / (1 * 1) = 1"
   ]
  },
  {
   "cell_type": "markdown",
   "metadata": {
    "id": "k1FeBSzQsFJ4"
   },
   "source": [
    "По правилу произведения, перемножая эти числа, получу число исходов, благоприятствующих моему событию: "
   ]
  },
  {
   "cell_type": "markdown",
   "metadata": {
    "id": "PW2lximGsFKC"
   },
   "source": [
    "= 84 * 1 = 84"
   ]
  },
  {
   "cell_type": "markdown",
   "metadata": {
    "id": "k1FeBSzQsFJ4"
   },
   "source": [
    "Применяя классическое определение вероятности, то есть поделив число благоприятствующих событию исходов на общее число исходов испытания (извлечения деталей), приду к искомой формуле: "
   ]
  },
  {
   "cell_type": "markdown",
   "metadata": {
    "id": "PW2lximGsFKC"
   },
   "source": [
    "= 84 / 455 = 0.1846\n",
    "___________________________________________________________"
   ]
  },
  {
   "cell_type": "markdown",
   "metadata": {
    "id": "1p8dVxYGsFJ4"
   },
   "source": [
    "**Пример 4**"
   ]
  },
  {
   "cell_type": "markdown",
   "metadata": {
    "id": "k1FeBSzQsFJ4"
   },
   "source": [
    "В лотерее 100 билетов. Из них 2 выигрышных. Какова вероятность того, что 2 приобретенных билета окажутся выигрышными?\n",
    "________________________________________________\n",
    "\n",
    "Сначала найду общее число исходов - это число всех различных способов выбрать любые 2 билета из общего числа 100 продающихся билетов (без учета порядка), то есть число сочетаний: "
   ]
  },
  {
   "cell_type": "markdown",
   "metadata": {
    "id": "PW2lximGsFKC"
   },
   "source": [
    "$$C_100^2 = \\frac{100!}{2!(100-2)!}$$ = "
   ]
  },
  {
   "cell_type": "markdown",
   "metadata": {
    "id": "PW2lximGsFKC"
   },
   "source": [
    " = 100 * 99 * 98! / (2! * 98!) = 100 * 99 / 2 = 4950"
   ]
  },
  {
   "cell_type": "markdown",
   "metadata": {
    "id": "k1FeBSzQsFJ4"
   },
   "source": [
    "Теперь найду число всех способов выбрать 2 выигрышных билета из 2 возможных - это сочетания: "
   ]
  },
  {
   "cell_type": "markdown",
   "metadata": {
    "id": "PW2lximGsFKC"
   },
   "source": [
    "$$C_2^2 = \\frac{2!}{2!(2-2)!}$$ = "
   ]
  },
  {
   "cell_type": "markdown",
   "metadata": {
    "id": "PW2lximGsFKC"
   },
   "source": [
    "= 2 / (2 * 1) = 1"
   ]
  },
  {
   "cell_type": "markdown",
   "metadata": {
    "id": "k1FeBSzQsFJ4"
   },
   "source": [
    "и одновременно число всех способов выбрать 0 невыигрышных билетов из 98 возможных:"
   ]
  },
  {
   "cell_type": "markdown",
   "metadata": {
    "id": "PW2lximGsFKC"
   },
   "source": [
    "$$C_98^0 = \\frac{98!}{0!(98-0)!}$$ = "
   ]
  },
  {
   "cell_type": "markdown",
   "metadata": {
    "id": "PW2lximGsFKC"
   },
   "source": [
    "= 1 / (1 * 1) = 1"
   ]
  },
  {
   "cell_type": "markdown",
   "metadata": {
    "id": "k1FeBSzQsFJ4"
   },
   "source": [
    "По правилу произведения, перемножая эти числа, получу число исходов, благоприятствующих моему событию: "
   ]
  },
  {
   "cell_type": "markdown",
   "metadata": {
    "id": "PW2lximGsFKC"
   },
   "source": [
    "= 1 * 1 = 1"
   ]
  },
  {
   "cell_type": "markdown",
   "metadata": {
    "id": "k1FeBSzQsFJ4"
   },
   "source": [
    "Применяя классическое определение вероятности, то есть поделив число благоприятствующих событию исходов на общее число исходов испытания (покупки билетов), приду к искомой формуле: "
   ]
  },
  {
   "cell_type": "markdown",
   "metadata": {
    "id": "PW2lximGsFKC"
   },
   "source": [
    "= 1 / 4950 = 0.0002\n",
    "_________________________________"
   ]
  },
  {
   "cell_type": "markdown",
   "metadata": {
    "id": "5crVgwelsFKz"
   },
   "source": [
    "**Пример 5**"
   ]
  },
  {
   "cell_type": "markdown",
   "metadata": {
    "id": "-Smvex-usFK0"
   },
   "source": [
    "На соревновании по биатлону один из трех спортсменов стреляет и попадает в мишень. Вероятность попадания для первого спортсмена равна 0.9, для второго — 0.8, для третьего — 0.6. Найти вероятность того, что выстрел произведен: a). первым спортсменом б). вторым спортсменом в). третьим спортсменом.\n",
    "___________________________________________\n",
    "Прежде чем узнал результат выстрела, располагаю только априорной вероятностью того, что выстрел был произведен, и она равнялась 1/3 — если учесть, что у всех спортсменов были равные возможности выстрелить.\n",
    "\n",
    "Зная результат выстрела, могу заново оценить вероятности для каждого спортсмена — ведь точность у них разная. Эти вероятности будут апостериорными, так как они получены после поступления информации о том, что выстрел был удачным.\n",
    "\n",
    "Событием $A$ буду считать попадание в мишень, а событиями $B_1, B_2$ и $B_3$ — что выстрел совершил первый, второй или третий спортсмен:"
   ]
  },
  {
   "cell_type": "markdown",
   "metadata": {
    "id": "yKhoUtEnsFK0"
   },
   "source": [
    "$$P(A\\:|\\:B_1) = 0.9$$\n",
    "\n",
    "$$P(A\\:|\\:B_2) = 0.8$$\n",
    "\n",
    "$$P(A\\:|\\:B_3) = 0.6$$"
   ]
  },
  {
   "cell_type": "markdown",
   "metadata": {
    "id": "ULZ2jSissFK1"
   },
   "source": [
    "Вероятность того, что стрелял n-ный спортсмен — при условии, что выстрел был удачным — буду находить по формуле:"
   ]
  },
  {
   "cell_type": "markdown",
   "metadata": {
    "id": "KmIcWtrbsFK2"
   },
   "source": [
    "$$P(B_n\\:|\\:A) = \\frac{P(B_n) \\cdot P(A\\:|\\:B_n)}{P(A)}$$\n",
    "\n",
    "---\n",
    "\n"
   ]
  },
  {
   "cell_type": "markdown",
   "metadata": {
    "id": "4CIYxbSisFK3"
   },
   "source": [
    "Все величины подставляю из условия, а знаменатель дроби расписываю по формуле полной вероятности:"
   ]
  },
  {
   "cell_type": "markdown",
   "metadata": {
    "id": "WENz51IbsFK4"
   },
   "source": [
    "$$P(B_1\\:|\\:A) = \\frac{\\frac{1}{3} \\cdot 0.9}{\\frac{1}{3} \\cdot 0.9 + \\frac{1}{3} \\cdot 0.8 + \\frac{1}{3} \\cdot 0.6} = \\frac{9}{23}$$"
   ]
  },
  {
   "cell_type": "markdown",
   "metadata": {
    "id": "WENz51IbsFK4"
   },
   "source": [
    "$$P(B_2\\:|\\:A) = \\frac{\\frac{1}{3} \\cdot 0.8}{\\frac{1}{3} \\cdot 0.9 + \\frac{1}{3} \\cdot 0.8 + \\frac{1}{3} \\cdot 0.6} = \\frac{8}{23}$$"
   ]
  },
  {
   "cell_type": "markdown",
   "metadata": {
    "id": "WENz51IbsFK4"
   },
   "source": [
    "$$P(B_3\\:|\\:A) = \\frac{\\frac{1}{3} \\cdot 0.6}{\\frac{1}{3} \\cdot 0.9 + \\frac{1}{3} \\cdot 0.8 + \\frac{1}{3} \\cdot 0.6} = \\frac{6}{23}$$"
   ]
  }
 ],
 "metadata": {
  "colab": {
   "collapsed_sections": [
    "sZKDq8ZWsFJ2",
    "dWGTf84XsFKA",
    "7euBINZMsFKw"
   ],
   "name": "Матстат - Урок 1.ipynb",
   "provenance": []
  },
  "kernelspec": {
   "display_name": "Python 3 (ipykernel)",
   "language": "python",
   "name": "python3"
  },
  "language_info": {
   "codemirror_mode": {
    "name": "ipython",
    "version": 3
   },
   "file_extension": ".py",
   "mimetype": "text/x-python",
   "name": "python",
   "nbconvert_exporter": "python",
   "pygments_lexer": "ipython3",
   "version": "3.9.7"
  }
 },
 "nbformat": 4,
 "nbformat_minor": 1
}
