{
 "cells": [
  {
   "cell_type": "markdown",
   "metadata": {
    "id": "G2wMw7vtsFIu"
   },
   "source": [
    "## ДЗ по уроку № 4 (27.06.2022)\n",
    "## Теория вероятности\n",
    "### Непрерывные случайные величины. Функция распределения и плотность распределения вероятностей. Равномерное и нормальное распределение. Центральная предельная теорема"
   ]
  },
  {
   "cell_type": "markdown",
   "metadata": {
    "id": "1p8dVxYGsFJ4"
   },
   "source": [
    "**Пример 1**"
   ]
  },
  {
   "cell_type": "markdown",
   "metadata": {
    "id": "k1FeBSzQsFJ4"
   },
   "source": [
    "Случайная непрерывная величина A имеет равномерное распределение на промежутке (200, 800].\n",
    "Найдите ее среднее значение и дисперсию."
   ]
  },
  {
   "cell_type": "markdown",
   "metadata": {
    "id": "k1FeBSzQsFJ4"
   },
   "source": [
    "Среднее значение будет равно математическому ожиданию: M=(200+800)/2=500"
   ]
  },
  {
   "cell_type": "markdown",
   "metadata": {
    "id": "k1FeBSzQsFJ4"
   },
   "source": [
    "Дисперсия: D=(800-200)^2/12=30000"
   ]
  },
  {
   "cell_type": "markdown",
   "metadata": {
    "id": "1p8dVxYGsFJ4"
   },
   "source": [
    "**Пример 2**"
   ]
  },
  {
   "cell_type": "markdown",
   "metadata": {
    "id": "k1FeBSzQsFJ4"
   },
   "source": [
    "О случайной непрерывной равномерно распределенной величине B известно, что ее дисперсия равна 0.2.\n",
    "Можно ли найти правую границу величины B и ее среднее значение зная, что левая граница равна 0.5?\n",
    "Если да, найдите ее."
   ]
  },
  {
   "cell_type": "markdown",
   "metadata": {
    "id": "k1FeBSzQsFJ4"
   },
   "source": [
    "(b-0.5)^2/12=0.2"
   ]
  },
  {
   "cell_type": "markdown",
   "metadata": {
    "id": "k1FeBSzQsFJ4"
   },
   "source": [
    "(b-0.5)^2=2.4"
   ]
  },
  {
   "cell_type": "markdown",
   "metadata": {
    "id": "k1FeBSzQsFJ4"
   },
   "source": [
    "b-0.5=1.55"
   ]
  },
  {
   "cell_type": "markdown",
   "metadata": {
    "id": "k1FeBSzQsFJ4"
   },
   "source": [
    "Правая граница: b=1.55+0.5=2.05"
   ]
  },
  {
   "cell_type": "markdown",
   "metadata": {
    "id": "k1FeBSzQsFJ4"
   },
   "source": [
    "Среднее значение будет равно математическому ожиданию: (a+b)/2=(2.05+0.5)/2=1.275"
   ]
  },
  {
   "cell_type": "markdown",
   "metadata": {
    "id": "1p8dVxYGsFJ4"
   },
   "source": [
    "**Пример 3**"
   ]
  },
  {
   "cell_type": "markdown",
   "metadata": {
    "id": "k1FeBSzQsFJ4"
   },
   "source": [
    "Непрерывная случайная величина X распределена нормально и задана плотностью распределения\n",
    "f(x) = (1 / (4 * sqrt(2*pi))) * (exp(-(x+2)**2) / 32).\n",
    "Найдите:\n",
    "а). M(X)\n",
    "б). D(X)\n",
    "в). std(X) (среднее квадратичное отклонение)"
   ]
  },
  {
   "cell_type": "markdown",
   "metadata": {},
   "source": [
    "а) 𝑎=𝑀(𝑋)=-2"
   ]
  },
  {
   "cell_type": "markdown",
   "metadata": {},
   "source": [
    "б) 𝜎2=𝐷(𝑋)=32/2=16"
   ]
  },
  {
   "cell_type": "markdown",
   "metadata": {},
   "source": [
    "в) std(X)=𝜎=sqrt(16)=4, да и в самом распределении сигма уже идет, как множитель перед квадратным корнем"
   ]
  },
  {
   "cell_type": "markdown",
   "metadata": {
    "id": "1p8dVxYGsFJ4"
   },
   "source": [
    "**Пример 4**"
   ]
  },
  {
   "cell_type": "markdown",
   "metadata": {
    "id": "k1FeBSzQsFJ4"
   },
   "source": [
    "Рост взрослого населения города X имеет нормальное распределение.\n",
    "Причем, средний рост равен 174 см, а среднее квадратичное отклонение равно 8 см.\n",
    "Какова вероятность того, что случайным образом выбранный взрослый человек имеет рост:\n",
    "а). больше 182 см\n",
    "б). больше 190 см\n",
    "в). от 166 см до 190 см\n",
    "г). от 166 см до 182 см\n",
    "д). от 158 см до 190 см\n",
    "е). не выше 150 см или не ниже 190 см\n",
    "ё). не выше 150 см или не ниже 198 см\n",
    "ж). ниже 166 см."
   ]
  },
  {
   "cell_type": "markdown",
   "metadata": {
    "id": "k1FeBSzQsFJ4"
   },
   "source": [
    "Непрерывная случайная величина X распределена нормально и задана плотностью распределения\n",
    "f(x) = (1 / (8 * sqrt(2*pi))) * (exp(-(x-174)**2) / 128)="
   ]
  },
  {
   "cell_type": "markdown",
   "metadata": {
    "id": "k1FeBSzQsFJ4"
   },
   "source": [
    "= 0.0499 * (exp(-(x-174)**2) / 128). "
   ]
  },
  {
   "cell_type": "markdown",
   "metadata": {
    "id": "k1FeBSzQsFJ4"
   },
   "source": [
    "а). больше 182 см\n",
    "\n",
    "182 > 174, значит вероятность равна: \n",
    "1- f(182) = 1 - 0.0499 * (exp(-(182-174)**2) / 128) = 1 - 0.0303 = 0.9697"
   ]
  },
  {
   "cell_type": "markdown",
   "metadata": {
    "id": "k1FeBSzQsFJ4"
   },
   "source": [
    "б). больше 190 см\n",
    "\n",
    "190 > 174, значит вероятность равна: \n",
    "1- f(190) = 1 - 0.0499 * (exp(-(190-174)**2) / 128) = 1 - 0,0068 = 0.9932"
   ]
  },
  {
   "cell_type": "markdown",
   "metadata": {
    "id": "k1FeBSzQsFJ4"
   },
   "source": [
    "ж). ниже 166 см\n",
    "\n",
    "166 < 174, значит вероятность равна: \n",
    "f(166) = 0.0499 * (exp(-(166-174)**2) / 128) = 0.0303"
   ]
  },
  {
   "cell_type": "markdown",
   "metadata": {
    "id": "1p8dVxYGsFJ4"
   },
   "source": [
    "**Пример 5**"
   ]
  },
  {
   "cell_type": "markdown",
   "metadata": {
    "id": "k1FeBSzQsFJ4"
   },
   "source": [
    "На сколько сигм (средних квадратичных отклонений) отклоняется рост человека, равный 190 см, от\n",
    "математического ожидания роста в популяции, в которой M(X) = 178 см и D(X) = 25 кв.см?"
   ]
  },
  {
   "cell_type": "markdown",
   "metadata": {},
   "source": [
    "Величины роста между собой не связаня - по центральной предельной теореме рост человека подчиняется нормальному распределению. \n",
    "\n",
    "M = 178\n",
    "D = 25\n",
    "x = 190\n",
    "\n",
    "Сигма в данном случае равна корень из дисперсии = 5. \n",
    "\n",
    "На сколько сигм (средних квадратичных отклонений) отклоняется рост человека: (x-M)/sqrt(D)=(190-178)/5 = 2.4"
   ]
  }
 ],
 "metadata": {
  "colab": {
   "collapsed_sections": [
    "sZKDq8ZWsFJ2",
    "dWGTf84XsFKA",
    "7euBINZMsFKw"
   ],
   "name": "Матстат - Урок 1.ipynb",
   "provenance": []
  },
  "kernelspec": {
   "display_name": "Python 3 (ipykernel)",
   "language": "python",
   "name": "python3"
  },
  "language_info": {
   "codemirror_mode": {
    "name": "ipython",
    "version": 3
   },
   "file_extension": ".py",
   "mimetype": "text/x-python",
   "name": "python",
   "nbconvert_exporter": "python",
   "pygments_lexer": "ipython3",
   "version": "3.9.7"
  }
 },
 "nbformat": 4,
 "nbformat_minor": 1
}
