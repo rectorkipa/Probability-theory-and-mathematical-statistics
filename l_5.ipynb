{
 "cells": [
  {
   "cell_type": "markdown",
   "metadata": {
    "id": "G2wMw7vtsFIu"
   },
   "source": [
    "## ДЗ по уроку № 5 (29.06.2022)\n",
    "## Теория вероятности\n",
    "### Проверка статистических гипотез. P-значения. Доверительные интервалы. A/B-тестирование"
   ]
  },
  {
   "cell_type": "markdown",
   "metadata": {
    "id": "1p8dVxYGsFJ4"
   },
   "source": [
    "**Пример 1**"
   ]
  },
  {
   "cell_type": "markdown",
   "metadata": {
    "id": "k1FeBSzQsFJ4"
   },
   "source": [
    "Известно, что генеральная совокупность распределена нормально\n",
    "со средним квадратическим отклонением, равным 16.\n",
    "Найти доверительный интервал для оценки математического ожидания a с надежностью 0.95,\n",
    "если выборочная средняя M = 80, а объем выборки n = 256."
   ]
  },
  {
   "cell_type": "markdown",
   "metadata": {
    "id": "k1FeBSzQsFJ4"
   },
   "source": [
    "Нормальное распределение. \n",
    "Среднее квадратическое отклонение sigma = 16. \n",
    "Выборочная средняя M = 80. \n",
    "Объем выборки n = 256. "
   ]
  },
  {
   "cell_type": "markdown",
   "metadata": {
    "id": "k1FeBSzQsFJ4"
   },
   "source": [
    "Надежность 0.95 - решение через две сигмы: "
   ]
  },
  {
   "cell_type": "markdown",
   "metadata": {
    "id": "k1FeBSzQsFJ4"
   },
   "source": [
    "Математическое ожидание должно быть в интервале\n",
    "(M - 2 * sigma/sqrt(n), M + 2 * sigma/sqrt(n))"
   ]
  },
  {
   "cell_type": "markdown",
   "metadata": {
    "id": "k1FeBSzQsFJ4"
   },
   "source": [
    "(80 - 2 * 16/16, 80 + 2 * 16/16)"
   ]
  },
  {
   "cell_type": "markdown",
   "metadata": {
    "id": "k1FeBSzQsFJ4"
   },
   "source": [
    "Ответ: доверительный интервал (78, 82)"
   ]
  },
  {
   "cell_type": "markdown",
   "metadata": {
    "id": "1p8dVxYGsFJ4"
   },
   "source": [
    "**Пример 2**"
   ]
  },
  {
   "cell_type": "markdown",
   "metadata": {
    "id": "k1FeBSzQsFJ4"
   },
   "source": [
    "В результате 10 независимых измерений некоторой величины X, выполненных с одинаковой точностью,\n",
    "получены опытные данные:\n",
    "6.9, 6.1, 6.2, 6.8, 7.5, 6.3, 6.4, 6.9, 6.7, 6.1\n",
    "Предполагая, что результаты измерений подчинены нормальному закону распределения вероятностей,\n",
    "оценить истинное значение величины X при помощи доверительного интервала, покрывающего это\n",
    "значение с доверительной вероятностью 0,95."
   ]
  },
  {
   "cell_type": "code",
   "execution_count": 1,
   "metadata": {},
   "outputs": [],
   "source": [
    "import numpy as np\n",
    "from scipy import stats\n",
    "\n",
    "X = np.array([6.9, 6.1, 6.2, 6.8, 7.5, 6.3, 6.4, 6.9, 6.7, 6.1])"
   ]
  },
  {
   "cell_type": "code",
   "execution_count": 2,
   "metadata": {},
   "outputs": [],
   "source": [
    "# уровень значимости:\n",
    "\n",
    "alfa = 0.05\n",
    "\n",
    "# размер выборки: \n",
    "\n",
    "n = 10\n",
    "\n",
    "# среднее элементов выборки: \n",
    "\n",
    "X_ = X.mean()\n",
    "\n",
    "# среднее квадратичное отклонение в выборке:\n",
    "\n",
    "sigma = X.std(ddof=1)"
   ]
  },
  {
   "cell_type": "code",
   "execution_count": 3,
   "metadata": {},
   "outputs": [
    {
     "data": {
      "text/plain": [
       "2.2621571627409915"
      ]
     },
     "execution_count": 3,
     "metadata": {},
     "output_type": "execute_result"
    }
   ],
   "source": [
    "# Табличное значение t-критерия Стьюдента для alpha и n\n",
    "\n",
    "t = stats.t.ppf(1 - alfa / 2, df=n - 1)\n",
    "t"
   ]
  },
  {
   "cell_type": "code",
   "execution_count": 4,
   "metadata": {
    "id": "k1FeBSzQsFJ4"
   },
   "outputs": [
    {
     "data": {
      "text/plain": [
       "6.267515851415713"
      ]
     },
     "execution_count": 4,
     "metadata": {},
     "output_type": "execute_result"
    }
   ],
   "source": [
    "# Левая граница доверительного интервала: \n",
    "    \n",
    "left = X_ - t * sigma / np.sqrt(n)\n",
    "left"
   ]
  },
  {
   "cell_type": "code",
   "execution_count": 5,
   "metadata": {
    "id": "k1FeBSzQsFJ4"
   },
   "outputs": [
    {
     "data": {
      "text/plain": [
       "6.912484148584288"
      ]
     },
     "execution_count": 5,
     "metadata": {},
     "output_type": "execute_result"
    }
   ],
   "source": [
    "# Правая граница доверительного интервала: \n",
    "    \n",
    "right = X_ + t * sigma / np.sqrt(n)\n",
    "right"
   ]
  },
  {
   "cell_type": "markdown",
   "metadata": {
    "id": "k1FeBSzQsFJ4"
   },
   "source": [
    "Ответ: доверительный интервал (6.2675, 6.9125)"
   ]
  },
  {
   "cell_type": "markdown",
   "metadata": {
    "id": "1p8dVxYGsFJ4"
   },
   "source": [
    "**Пример 3**"
   ]
  },
  {
   "cell_type": "markdown",
   "metadata": {
    "id": "k1FeBSzQsFJ4"
   },
   "source": [
    "Утверждается, что шарики для подшипников, изготовленные автоматическим станком, имеют средний диаметр 17 мм.\n",
    "Используя односторонний критерий с α=0,05, проверить эту гипотезу, если в выборке из n=100 шариков средний диаметр\n",
    "оказался равным 17.5 мм, а дисперсия известна и равна 4 мм."
   ]
  },
  {
   "cell_type": "markdown",
   "metadata": {},
   "source": [
    "m = 17. \n",
    "alfa = 0.05. \n",
    "n = 100. \n",
    "X_ = 17.5. \n",
    "D = 4. "
   ]
  },
  {
   "cell_type": "markdown",
   "metadata": {},
   "source": [
    "Табличное значение t-критерия Стьюдента для alpha и n: t = 1.645. "
   ]
  },
  {
   "cell_type": "markdown",
   "metadata": {},
   "source": [
    "sigma = sqrt(D)"
   ]
  },
  {
   "cell_type": "markdown",
   "metadata": {},
   "source": [
    "T = (X_ - m)/(sigma/sqrt(n))"
   ]
  },
  {
   "cell_type": "markdown",
   "metadata": {},
   "source": [
    "T = (17.5 - 17)/(2/10)) = 0.5 / 0.2 = 2.5"
   ]
  },
  {
   "cell_type": "markdown",
   "metadata": {},
   "source": [
    "Ответ: T > t - гипотеза отвергается. "
   ]
  },
  {
   "cell_type": "markdown",
   "metadata": {
    "id": "1p8dVxYGsFJ4"
   },
   "source": [
    "**Пример 4**"
   ]
  },
  {
   "cell_type": "markdown",
   "metadata": {
    "id": "k1FeBSzQsFJ4"
   },
   "source": [
    "Продавец утверждает, что средний вес пачки печенья составляет 200 г.\n",
    "Из партии извлечена выборка из 10 пачек. Вес каждой пачки составляет:\n",
    "202, 203, 199, 197, 195, 201, 200, 204, 194, 190.\n",
    "Известно, что их веса распределены нормально.\n",
    "Верно ли утверждение продавца, если учитывать, что доверительная вероятность равна 99%?"
   ]
  },
  {
   "cell_type": "code",
   "execution_count": 6,
   "metadata": {},
   "outputs": [],
   "source": [
    "X = np.array([202, 203, 199, 197, 195, 201, 200, 204, 194, 190])"
   ]
  },
  {
   "cell_type": "code",
   "execution_count": 7,
   "metadata": {},
   "outputs": [],
   "source": [
    "# уровень значимости:\n",
    "\n",
    "alfa = 0.01\n",
    "\n",
    "# X_ - средний вес пачки из выборки: \n",
    "\n",
    "X_ = X.mean()\n",
    "\n",
    "# sigma - среднее квадратичное отклонение в выборке:\n",
    "\n",
    "sigma = X.std(ddof=1)\n",
    "\n",
    "# n - размер выборки:\n",
    "\n",
    "n = 10"
   ]
  },
  {
   "cell_type": "code",
   "execution_count": 8,
   "metadata": {},
   "outputs": [
    {
     "data": {
      "text/plain": [
       "198.5"
      ]
     },
     "execution_count": 8,
     "metadata": {},
     "output_type": "execute_result"
    }
   ],
   "source": [
    "X_"
   ]
  },
  {
   "cell_type": "code",
   "execution_count": 9,
   "metadata": {},
   "outputs": [
    {
     "data": {
      "text/plain": [
       "4.453463071962462"
      ]
     },
     "execution_count": 9,
     "metadata": {},
     "output_type": "execute_result"
    }
   ],
   "source": [
    "sigma"
   ]
  },
  {
   "cell_type": "code",
   "execution_count": 10,
   "metadata": {
    "id": "k1FeBSzQsFJ4"
   },
   "outputs": [
    {
     "data": {
      "text/plain": [
       "3.2498355440153697"
      ]
     },
     "execution_count": 10,
     "metadata": {},
     "output_type": "execute_result"
    }
   ],
   "source": [
    "# Табличное значение t-критерия Стьюдента для alpha и n\n",
    "\n",
    "t = stats.t.ppf(1 - alfa / 2, df=n - 1)\n",
    "t"
   ]
  },
  {
   "cell_type": "code",
   "execution_count": 11,
   "metadata": {
    "id": "k1FeBSzQsFJ4"
   },
   "outputs": [
    {
     "data": {
      "text/plain": [
       "193.92322840036354"
      ]
     },
     "execution_count": 11,
     "metadata": {},
     "output_type": "execute_result"
    }
   ],
   "source": [
    "# Левая граница доверительного интервала: \n",
    "    \n",
    "left = X_ - t * sigma / np.sqrt(n)\n",
    "left"
   ]
  },
  {
   "cell_type": "code",
   "execution_count": 12,
   "metadata": {
    "id": "k1FeBSzQsFJ4"
   },
   "outputs": [
    {
     "data": {
      "text/plain": [
       "203.07677159963646"
      ]
     },
     "execution_count": 12,
     "metadata": {},
     "output_type": "execute_result"
    }
   ],
   "source": [
    "# Правая граница доверительного интервала: \n",
    "    \n",
    "right = X_ + t * sigma / np.sqrt(n)\n",
    "right"
   ]
  },
  {
   "cell_type": "markdown",
   "metadata": {
    "id": "k1FeBSzQsFJ4"
   },
   "source": [
    "Ответ: утверждаемый вес пачки 200 по предлагаемой гипотезе входит в доверительный интервал - гипотеза верна. "
   ]
  }
 ],
 "metadata": {
  "colab": {
   "collapsed_sections": [
    "sZKDq8ZWsFJ2",
    "dWGTf84XsFKA",
    "7euBINZMsFKw"
   ],
   "name": "Матстат - Урок 1.ipynb",
   "provenance": []
  },
  "kernelspec": {
   "display_name": "Python 3 (ipykernel)",
   "language": "python",
   "name": "python3"
  },
  "language_info": {
   "codemirror_mode": {
    "name": "ipython",
    "version": 3
   },
   "file_extension": ".py",
   "mimetype": "text/x-python",
   "name": "python",
   "nbconvert_exporter": "python",
   "pygments_lexer": "ipython3",
   "version": "3.9.7"
  }
 },
 "nbformat": 4,
 "nbformat_minor": 1
}
